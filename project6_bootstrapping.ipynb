{
 "cells": [
  {
   "cell_type": "code",
   "execution_count": null,
   "id": "218e7832-8349-4920-a7a0-5d6b6f24b8a9",
   "metadata": {
    "tags": []
   },
   "outputs": [],
   "source": [
    "from chi import server, context, lease\n",
    "import os\n",
    "\n",
    "context.version = \"1.0\" \n",
    "context.choose_project()\n",
    "context.choose_site(default=\"CHI@UC\") # change this according to lease server"
   ]
  },
  {
   "cell_type": "code",
   "execution_count": null,
   "id": "096d32fa-1b8c-44ee-8644-e0db81a0d754",
   "metadata": {
    "tags": []
   },
   "outputs": [],
   "source": [
    "l = lease.get_lease(f\"gpu_rtx6000_project_grp6\") # change this lease name\n",
    "l.show()"
   ]
  },
  {
   "cell_type": "code",
   "execution_count": null,
   "id": "2264af8d-b68b-4d56-bcf6-87c1dd903a3a",
   "metadata": {
    "tags": []
   },
   "outputs": [],
   "source": [
    "username = os.getenv('USER') # all exp resources will have this prefix\n",
    "s = server.Server(\n",
    "    # f\"node_{username}_project6\", \n",
    "    f\"node-project-group6\", \n",
    "    reservation_id=l.node_reservations[0][\"id\"],\n",
    "    image_name=\"CC-Ubuntu24.04-CUDA\"\n",
    ")\n",
    "s.submit(idempotent=True)"
   ]
  },
  {
   "cell_type": "code",
   "execution_count": 4,
   "id": "cc7f72bf-b4a2-4f09-acaa-0c42e128124e",
   "metadata": {
    "tags": []
   },
   "outputs": [
    {
     "ename": "ResourceError",
     "evalue": "None of the ports can route to floating ip 192.5.86.177 on server c2de2a4f-b80d-4f77-b76c-ab80cfa9b1d7",
     "output_type": "error",
     "traceback": [
      "\u001b[0;31m---------------------------------------------------------------------------\u001b[0m",
      "\u001b[0;31mResourceError\u001b[0m                             Traceback (most recent call last)",
      "\u001b[0;32m/tmp/ipykernel_121/831154080.py\u001b[0m in \u001b[0;36m<cell line: 1>\u001b[0;34m()\u001b[0m\n\u001b[0;32m----> 1\u001b[0;31m \u001b[0ms\u001b[0m\u001b[0;34m.\u001b[0m\u001b[0massociate_floating_ip\u001b[0m\u001b[0;34m(\u001b[0m\u001b[0;34m)\u001b[0m\u001b[0;34m\u001b[0m\u001b[0;34m\u001b[0m\u001b[0m\n\u001b[0m",
      "\u001b[0;32m/opt/conda/lib/python3.10/site-packages/chi/server.py\u001b[0m in \u001b[0;36massociate_floating_ip\u001b[0;34m(self, fip, port_id)\u001b[0m\n\u001b[1;32m    439\u001b[0m             \u001b[0;32mNone\u001b[0m\u001b[0;34m\u001b[0m\u001b[0;34m\u001b[0m\u001b[0m\n\u001b[1;32m    440\u001b[0m         \"\"\"\n\u001b[0;32m--> 441\u001b[0;31m         \u001b[0massociate_floating_ip\u001b[0m\u001b[0;34m(\u001b[0m\u001b[0mself\u001b[0m\u001b[0;34m.\u001b[0m\u001b[0mid\u001b[0m\u001b[0;34m,\u001b[0m \u001b[0mfip\u001b[0m\u001b[0;34m,\u001b[0m \u001b[0mport_id\u001b[0m\u001b[0;34m)\u001b[0m\u001b[0;34m\u001b[0m\u001b[0;34m\u001b[0m\u001b[0m\n\u001b[0m\u001b[1;32m    442\u001b[0m         \u001b[0mself\u001b[0m\u001b[0;34m.\u001b[0m\u001b[0mrefresh\u001b[0m\u001b[0;34m(\u001b[0m\u001b[0;34m)\u001b[0m\u001b[0;34m\u001b[0m\u001b[0;34m\u001b[0m\u001b[0m\n\u001b[1;32m    443\u001b[0m \u001b[0;34m\u001b[0m\u001b[0m\n",
      "\u001b[0;32m/opt/conda/lib/python3.10/site-packages/chi/server.py\u001b[0m in \u001b[0;36massociate_floating_ip\u001b[0;34m(server_id, floating_ip_address, port_id)\u001b[0m\n\u001b[1;32m    830\u001b[0m                 \u001b[0;32mpass\u001b[0m\u001b[0;34m\u001b[0m\u001b[0;34m\u001b[0m\u001b[0m\n\u001b[1;32m    831\u001b[0m     \u001b[0mfloating_ip_address\u001b[0m \u001b[0;34m=\u001b[0m \u001b[0mfloating_ip_obj\u001b[0m\u001b[0;34m[\u001b[0m\u001b[0;34m\"floating_ip_address\"\u001b[0m\u001b[0;34m]\u001b[0m\u001b[0;34m\u001b[0m\u001b[0;34m\u001b[0m\u001b[0m\n\u001b[0;32m--> 832\u001b[0;31m     \u001b[0;32mraise\u001b[0m \u001b[0mexception\u001b[0m\u001b[0;34m.\u001b[0m\u001b[0mResourceError\u001b[0m\u001b[0;34m(\u001b[0m\u001b[0;34mf\"None of the ports can route to floating ip {floating_ip_address} on server {server_id}\"\u001b[0m\u001b[0;34m)\u001b[0m\u001b[0;34m\u001b[0m\u001b[0;34m\u001b[0m\u001b[0m\n\u001b[0m\u001b[1;32m    833\u001b[0m \u001b[0;34m\u001b[0m\u001b[0m\n\u001b[1;32m    834\u001b[0m \u001b[0;34m\u001b[0m\u001b[0m\n",
      "\u001b[0;31mResourceError\u001b[0m: None of the ports can route to floating ip 192.5.86.177 on server c2de2a4f-b80d-4f77-b76c-ab80cfa9b1d7"
     ]
    }
   ],
   "source": [
    "s.associate_floating_ip()"
   ]
  },
  {
   "cell_type": "code",
   "execution_count": null,
   "id": "07b12993-d840-4f6a-90b7-e66eb041fa74",
   "metadata": {
    "tags": []
   },
   "outputs": [
    {
     "name": "stdout",
     "output_type": "stream",
     "text": [
      "Checking connectivity to None port 22.\n"
     ]
    },
    {
     "data": {
      "application/vnd.jupyter.widget-view+json": {
       "model_id": "42fa037517854c9fa15162851d5a625f",
       "version_major": 2,
       "version_minor": 0
      },
      "text/plain": [
       "HBox(children=(Label(value=''), IntProgress(value=0, bar_style='success')))"
      ]
     },
     "metadata": {},
     "output_type": "display_data"
    }
   ],
   "source": [
    "s.refresh()\n",
    "s.check_connectivity()"
   ]
  },
  {
   "cell_type": "code",
   "execution_count": null,
   "id": "f34fb8f9-5f0c-4f5a-9e78-063e9f4a9856",
   "metadata": {},
   "outputs": [],
   "source": [
    "s.execute(\"git clone https://github.com/teaching-on-testbeds/serve-model-chi\")"
   ]
  },
  {
   "cell_type": "code",
   "execution_count": null,
   "id": "baac8711-2b06-4b05-8458-50494c5a12bd",
   "metadata": {},
   "outputs": [],
   "source": [
    "# setup docker\n",
    "s.execute(\"curl -sSL https://get.docker.com/ | sudo sh\")\n",
    "s.execute(\"sudo groupadd -f docker; sudo usermod -aG docker $USER\")"
   ]
  },
  {
   "cell_type": "code",
   "execution_count": null,
   "id": "661f33fb-1b34-4911-9855-83142e0d201a",
   "metadata": {},
   "outputs": [],
   "source": [
    "# setup nvidia-container\n",
    "s.execute(\"curl -fsSL https://nvidia.github.io/libnvidia-container/gpgkey | sudo gpg --dearmor -o /usr/share/keyrings/nvidia-container-toolkit-keyring.gpg \\\n",
    "  && curl -s -L https://nvidia.github.io/libnvidia-container/stable/deb/nvidia-container-toolkit.list | \\\n",
    "    sed 's#deb https://#deb [signed-by=/usr/share/keyrings/nvidia-container-toolkit-keyring.gpg] https://#g' | \\\n",
    "    sudo tee /etc/apt/sources.list.d/nvidia-container-toolkit.list\")\n",
    "s.execute(\"sudo apt update\")\n",
    "s.execute(\"sudo apt-get install -y nvidia-container-toolkit\")\n",
    "s.execute(\"sudo nvidia-ctk runtime configure --runtime=docker\")\n",
    "# for https://github.com/NVIDIA/nvidia-container-toolkit/issues/48\n",
    "s.execute(\"sudo jq 'if has(\\\"exec-opts\\\") then . else . + {\\\"exec-opts\\\": [\\\"native.cgroupdriver=cgroupfs\\\"]} end' /etc/docker/daemon.json | sudo tee /etc/docker/daemon.json.tmp > /dev/null && sudo mv /etc/docker/daemon.json.tmp /etc/docker/daemon.json\")\n",
    "s.execute(\"sudo systemctl restart docker\")"
   ]
  },
  {
   "cell_type": "code",
   "execution_count": null,
   "id": "eeffd4cc-ca80-41be-8623-85baeee8967d",
   "metadata": {},
   "outputs": [],
   "source": [
    "# now connect with terminal: ssh -i ~/.ssh/pub_key_wl3187 cc@A.B.C.D"
   ]
  }
 ],
 "metadata": {
  "kernelspec": {
   "display_name": "Python 3 (ipykernel)",
   "language": "python",
   "name": "python3"
  },
  "language_info": {
   "codemirror_mode": {
    "name": "ipython",
    "version": 3
   },
   "file_extension": ".py",
   "mimetype": "text/x-python",
   "name": "python",
   "nbconvert_exporter": "python",
   "pygments_lexer": "ipython3",
   "version": "3.10.9"
  }
 },
 "nbformat": 4,
 "nbformat_minor": 5
}
